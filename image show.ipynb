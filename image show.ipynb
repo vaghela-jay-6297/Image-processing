{
 "cells": [
  {
   "cell_type": "markdown",
   "metadata": {},
   "source": [
    "# Image read & show "
   ]
  },
  {
   "cell_type": "code",
   "execution_count": 1,
   "metadata": {},
   "outputs": [],
   "source": [
    "import cv2"
   ]
  },
  {
   "cell_type": "code",
   "execution_count": 2,
   "metadata": {},
   "outputs": [],
   "source": [
    "# add path\n",
    "path = \"\"\"images\"\"\"\n",
    "# type image name\n",
    "img_name = '1.png'\n",
    "# read image data using imread fun\n",
    "img = cv2.imread(path + '/' + img_name)"
   ]
  },
  {
   "cell_type": "code",
   "execution_count": 17,
   "metadata": {},
   "outputs": [
    {
     "data": {
      "text/plain": [
       "array([ 60,  68, 106], dtype=uint8)"
      ]
     },
     "execution_count": 17,
     "metadata": {},
     "output_type": "execute_result"
    }
   ],
   "source": [
    "# resize fun to set the size of image\n",
    "img = cv2.resize(img,(400,400))\n",
    "# show image using imshow fun pass image name and image object\n",
    "cv2.imshow('Image_name', img)\n",
    "# image showing window open only .5 second\n",
    "cv2.waitKey(0) # showing only .5 second\n",
    "# destroy all open windows\n",
    "cv2.destroyAllWindows()\n",
    "img.shape\n",
    "img[96][156]"
   ]
  },
  {
   "cell_type": "markdown",
   "metadata": {},
   "source": [
    "# read all images from any folder."
   ]
  },
  {
   "cell_type": "code",
   "execution_count": 4,
   "metadata": {},
   "outputs": [],
   "source": [
    "import os"
   ]
  },
  {
   "cell_type": "code",
   "execution_count": 5,
   "metadata": {},
   "outputs": [
    {
     "name": "stdout",
     "output_type": "stream",
     "text": [
      "['2.png', '6.jpg', '3.jpeg', '5.jpeg', '4.jpeg', '1.png']\n"
     ]
    }
   ],
   "source": [
    "# get all images\n",
    "list_image = os.listdir(path)\n",
    "print(list_image)"
   ]
  },
  {
   "cell_type": "code",
   "execution_count": 6,
   "metadata": {},
   "outputs": [],
   "source": [
    "for i in list_image:\n",
    "    img = cv2.imread(path + '/' + i)\n",
    "    img = cv2.resize(img, (400,400))\n",
    "    cv2.imshow('images', img)\n",
    "    cv2.waitKey(0)\n",
    "cv2.destroyAllWindows()"
   ]
  },
  {
   "cell_type": "markdown",
   "metadata": {},
   "source": [
    "# One image show multiple images in one window"
   ]
  },
  {
   "cell_type": "code",
   "execution_count": 7,
   "metadata": {},
   "outputs": [],
   "source": [
    "import numpy as np"
   ]
  },
  {
   "cell_type": "code",
   "execution_count": 8,
   "metadata": {},
   "outputs": [],
   "source": [
    "for i in list_image:\n",
    "    img = cv2.imread(path + '/' + i)\n",
    "    img = cv2.resize(img, (400,400))\n",
    "    img_2 = np.hstack((img, img))\n",
    "    img_4 = np.hstack((img_2, img_2))\n",
    "    cv2.imshow('images', img_4)\n",
    "    cv2.waitKey(0)\n",
    "cv2.destroyAllWindows()"
   ]
  },
  {
   "cell_type": "markdown",
   "metadata": {},
   "source": [
    "# Thank you !"
   ]
  }
 ],
 "metadata": {
  "kernelspec": {
   "display_name": "Python 3",
   "language": "python",
   "name": "python3"
  },
  "language_info": {
   "codemirror_mode": {
    "name": "ipython",
    "version": 3
   },
   "file_extension": ".py",
   "mimetype": "text/x-python",
   "name": "python",
   "nbconvert_exporter": "python",
   "pygments_lexer": "ipython3",
   "version": "3.8.5"
  }
 },
 "nbformat": 4,
 "nbformat_minor": 4
}
