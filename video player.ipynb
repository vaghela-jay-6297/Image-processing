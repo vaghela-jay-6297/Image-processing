{
 "cells": [
  {
   "cell_type": "markdown",
   "metadata": {},
   "source": [
    "# Play video "
   ]
  },
  {
   "cell_type": "code",
   "execution_count": 1,
   "metadata": {},
   "outputs": [],
   "source": [
    "import cv2\n",
    "import numpy as np"
   ]
  },
  {
   "cell_type": "code",
   "execution_count": 2,
   "metadata": {},
   "outputs": [],
   "source": [
    "video1 = r'videos/short story.mp4'\n",
    "video2 = r'videos/animation video 2.mp4'"
   ]
  },
  {
   "cell_type": "code",
   "execution_count": 3,
   "metadata": {},
   "outputs": [],
   "source": [
    "# videocapture fun to capture videos.\n",
    "'''\n",
    "Note:-> if you can access your system primary camera than pass (0) if you can use secondary camera than pass (1 0r -1) \n",
    "into videocapture fun and also you can pass camera name into string.\n",
    "'''\n",
    "video_cap = cv2.VideoCapture(video1)\n",
    "\n",
    "# while video is captured than return true otherwise false.\n",
    "while video_cap.isOpened():\n",
    "    # res is a response(true,false)\n",
    "    res, frame = video_cap.read()\n",
    "    # if respose is true.\n",
    "    if res:\n",
    "        image = cv2.resize(frame, (1280,700))\n",
    "        cv2.imshow('video',image)\n",
    "        \n",
    "        # wait for 25 second because user can press q key than break while loop.\n",
    "        if cv2.waitKey(25) & 0xff == ord('q'):\n",
    "            break\n",
    "    else:\n",
    "        break\n",
    "\n",
    "video_cap.release()\n",
    "cv2.destroyAllWindows()"
   ]
  },
  {
   "cell_type": "markdown",
   "metadata": {},
   "source": [
    "# One video play multiple times in single window "
   ]
  },
  {
   "cell_type": "code",
   "execution_count": 4,
   "metadata": {},
   "outputs": [],
   "source": [
    "video_cap = cv2.VideoCapture(video1)\n",
    "\n",
    "# while video is captured than return true otherwise false.\n",
    "while video_cap.isOpened():\n",
    "    # res is a response(true,false)\n",
    "    res, frame = video_cap.read()\n",
    "    # if respose is true.\n",
    "    if res:\n",
    "        frame = cv2.resize(frame, (600,200))\n",
    "        \n",
    "        frame_2 = np.hstack((frame, frame))\n",
    "        frame_4 = np.vstack((frame_2, frame_2))\n",
    "        \n",
    "        cv2.imshow('video',frame_4)\n",
    "        # wait for 25 second because user can press q key than break while loop.\n",
    "        if cv2.waitKey(25) & 0xff == ord('q'):\n",
    "            break  \n",
    "    else:\n",
    "        break\n",
    "\n",
    "video_cap.release()\n",
    "cv2.destroyAllWindows()"
   ]
  },
  {
   "cell_type": "markdown",
   "metadata": {},
   "source": [
    "# Show multiple videos into single window\n"
   ]
  },
  {
   "cell_type": "code",
   "execution_count": 10,
   "metadata": {},
   "outputs": [],
   "source": [
    "cap1 = cv2.VideoCapture(video1)\n",
    "cap2 = cv2.VideoCapture(video2)\n",
    "# for camera\n",
    "#camera_cap = cv2.VideoCapture(0)\n",
    "\n",
    "# while video is captured than return true otherwise false.\n",
    "while cap1.isOpened():\n",
    "    # res is a response(true,false)\n",
    "    res1, frame1 = cap1.read()\n",
    "    res2, frame2 = cap2.read()\n",
    "    #res3, frame3 = camera_cap.read()\n",
    "    \n",
    "    # if respose is true.\n",
    "    if res1:\n",
    "        frame1 = cv2.resize(frame1, (600,400))\n",
    "        frame2 = cv2.resize(frame2, (600,400))\n",
    "        \n",
    "        #frame3 = cv2.resize(frame3, (600,200))\n",
    "        \n",
    "        # we also read image\n",
    "        image = cv2.imread('images/1.png')\n",
    "        image = cv2.resize(image,(600,400))\n",
    "        \n",
    "        combine_videos = np.hstack((frame1, frame2))\n",
    "        video_nd_image = np.hstack((frame1, image))\n",
    "        # if primary camera is found than uncomment below line\n",
    "        #video_nd_image = np.hstack((frame3, image))\n",
    "        combine_all = np.vstack((combine_videos, video_nd_image))\n",
    "        \n",
    "        cv2.imshow('Combine All',combine_all)\n",
    "        # wait for 25 second because user can press q key than break while loop.\n",
    "        if cv2.waitKey(25) & 0xff == ord('q'):\n",
    "            break\n",
    "    else:\n",
    "        break\n",
    "\n",
    "cap1.release()\n",
    "cap2.release()\n",
    "cv2.destroyAllWindows()"
   ]
  },
  {
   "cell_type": "markdown",
   "metadata": {},
   "source": [
    "# Thank you"
   ]
  }
 ],
 "metadata": {
  "kernelspec": {
   "display_name": "Python 3",
   "language": "python",
   "name": "python3"
  },
  "language_info": {
   "codemirror_mode": {
    "name": "ipython",
    "version": 3
   },
   "file_extension": ".py",
   "mimetype": "text/x-python",
   "name": "python",
   "nbconvert_exporter": "python",
   "pygments_lexer": "ipython3",
   "version": "3.8.5"
  }
 },
 "nbformat": 4,
 "nbformat_minor": 4
}
